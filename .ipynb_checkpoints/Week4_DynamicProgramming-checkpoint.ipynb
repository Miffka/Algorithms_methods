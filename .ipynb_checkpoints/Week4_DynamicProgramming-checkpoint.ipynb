{
 "cells": [
  {
   "cell_type": "code",
   "execution_count": 15,
   "metadata": {},
   "outputs": [
    {
     "name": "stdout",
     "output_type": "stream",
     "text": [
      "4\n",
      "3 6 7 12\n",
      "3\n"
     ]
    }
   ],
   "source": [
    "# Task 1\n",
    "# Find largest subsequence such that next element divides by the previous one\n",
    "\n",
    "# number of elements\n",
    "n = int(input())\n",
    "# input list of elements\n",
    "A = [int(i) for i in input().split()]\n",
    "\n",
    "# list D\n",
    "D = [1]*n\n",
    "\n",
    "#print(D)\n",
    "\n",
    "for i in range(n):\n",
    "#    print()\n",
    "#    print(\"i is \" + str(i) + \" and A[i] is \" + str(A[i]) + \" and D[i] is \" + str(D[i]))\n",
    "    for j in range(i):\n",
    "#        print(\"A[j] is \" + str(A[j]) + \" and D[j] is \" + str(D[j]))\n",
    "        if A[i]%A[j] == 0 and D[j]+1 > D[i]:\n",
    "            D[i] = D[j] + 1\n",
    "\n",
    "#print(D)\n",
    "\n",
    "ans = max(D)\n",
    "\n",
    "print(ans)"
   ]
  }
 ],
 "metadata": {
  "kernelspec": {
   "display_name": "Python 3",
   "language": "python",
   "name": "python3"
  },
  "language_info": {
   "codemirror_mode": {
    "name": "ipython",
    "version": 3
   },
   "file_extension": ".py",
   "mimetype": "text/x-python",
   "name": "python",
   "nbconvert_exporter": "python",
   "pygments_lexer": "ipython3",
   "version": "3.6.0"
  }
 },
 "nbformat": 4,
 "nbformat_minor": 2
}
