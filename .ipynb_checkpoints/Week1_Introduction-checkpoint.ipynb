{
 "cells": [
  {
   "cell_type": "code",
   "execution_count": 1,
   "metadata": {},
   "outputs": [
    {
     "name": "stdout",
     "output_type": "stream",
     "text": [
      "8\n",
      "21\n"
     ]
    }
   ],
   "source": [
    "#Задача 1 - числа Фиббоначчи, 1\n",
    "def fib(n):\n",
    "    # put your code here\n",
    "  fibb = {0:0, 1:1}\n",
    "  for i in range(2,n+1):\n",
    "    fibb[i] = fibb[i-1] + fibb[i-2]\n",
    "  return fibb[n]\n",
    "\n",
    "def main():\n",
    "  n = int(input())\n",
    "  print(fib(n))\n",
    "  \n",
    "main()"
   ]
  },
  {
   "cell_type": "code",
   "execution_count": null,
   "metadata": {
    "collapsed": true
   },
   "outputs": [],
   "source": [
    "#Задача 2 - числа Фиббоначчи, 2\n",
    "def fib_digit(n):\n",
    "  fibb = {0:0, 1:1}\n",
    "  for i in range(2, n+1):\n",
    "    fibb[i] = (fibb[i-1] + fibb[i-2]) % 10\n",
    "  return fibb[n]\n",
    "  \n",
    "number = int(input())\n",
    "print(fib_digit(number))"
   ]
  },
  {
   "cell_type": "code",
   "execution_count": null,
   "metadata": {
    "collapsed": true
   },
   "outputs": [],
   "source": [
    "#Задача 3 - числа Фиббоначчи, 3\n",
    "import sys\n",
    "\n",
    "lineIn = sys.stdin.readline().split(\" \")\n",
    "n = int(lineIn[0])\n",
    "m = int(lineIn[1])\n",
    "\n",
    "fibPrev = 0\n",
    "fib = 1\n",
    "cached = [fibPrev, fib]\n",
    "\n",
    "for curr in range(1, n):\n",
    "    fibOld = fib\n",
    "    fib = (fib + fibPrev) % m\n",
    "    fibPrev = fibOld\n",
    "\n",
    "    if fibPrev == 0 and fib == 1:\n",
    "        cached.pop()\n",
    "        break\n",
    "    else:\n",
    "        cached.append(fib)\n",
    "\n",
    "offset = n % len(cached)\n",
    "sys.stdout.write(str(cached[offset]))"
   ]
  },
  {
   "cell_type": "code",
   "execution_count": null,
   "metadata": {
    "collapsed": true
   },
   "outputs": [],
   "source": [
    "#Задача 4 - наибольший общий делитель\n",
    "a, b = [int(i) for i in input().split()]\n",
    "while True:\n",
    "    if min(a,b) == 0:\n",
    "        print(max(a,b))\n",
    "        break\n",
    "    elif a > b:\n",
    "        a = a % b\n",
    "    else:\n",
    "        b = b % a\n",
    "    #print(a, b)"
   ]
  }
 ],
 "metadata": {
  "kernelspec": {
   "display_name": "Python 3",
   "language": "python",
   "name": "python3"
  },
  "language_info": {
   "codemirror_mode": {
    "name": "ipython",
    "version": 3
   },
   "file_extension": ".py",
   "mimetype": "text/x-python",
   "name": "python",
   "nbconvert_exporter": "python",
   "pygments_lexer": "ipython3",
   "version": "3.6.0"
  }
 },
 "nbformat": 4,
 "nbformat_minor": 2
}
